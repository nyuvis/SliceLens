{
 "cells": [
  {
   "cell_type": "markdown",
   "metadata": {},
   "source": [
    "`BROWARD_CLEAN.csv` is from [here](https://farid.berkeley.edu/downloads/publications/scienceadvances17/)."
   ]
  },
  {
   "cell_type": "code",
   "execution_count": null,
   "metadata": {},
   "outputs": [],
   "source": [
    "import pandas as pd"
   ]
  },
  {
   "cell_type": "code",
   "execution_count": null,
   "metadata": {},
   "outputs": [],
   "source": [
    "df = pd.read_csv('https://farid.berkeley.edu/downloads/publications/scienceadvances17/BROWARD_CLEAN.csv')"
   ]
  },
  {
   "cell_type": "code",
   "execution_count": null,
   "metadata": {},
   "outputs": [],
   "source": [
    "df.head()"
   ]
  },
  {
   "cell_type": "code",
   "execution_count": null,
   "metadata": {},
   "outputs": [],
   "source": [
    "df.drop(['id', 'charge_id', 'compas_decile_score', 'compas_correct',\n",
    "         'Unnamed: 13', 'Unnamed: 14', 'Unnamed: 15'],\n",
    "        axis='columns',\n",
    "        inplace=True)"
   ]
  },
  {
   "cell_type": "code",
   "execution_count": null,
   "metadata": {},
   "outputs": [],
   "source": [
    "df.rename(columns={\n",
    "    'charge_degree (misd/fel)': 'charge_degree',\n",
    "    'two_year_recid': 'label',\n",
    "    'compas_guess': 'prediction'\n",
    "}, inplace=True)"
   ]
  },
  {
   "cell_type": "code",
   "execution_count": null,
   "metadata": {},
   "outputs": [],
   "source": [
    "df['race'].replace({\n",
    "    1: 'White',\n",
    "    2: 'Black',\n",
    "    3: 'Hispanic',\n",
    "    4: 'Asian',\n",
    "    5: 'Native American',\n",
    "    6: 'Other',\n",
    "}, inplace=True)"
   ]
  },
  {
   "cell_type": "code",
   "execution_count": null,
   "metadata": {},
   "outputs": [],
   "source": [
    "df['sex'].replace({\n",
    "    0: 'Male',\n",
    "    1: 'Female',\n",
    "}, inplace=True)"
   ]
  },
  {
   "cell_type": "code",
   "execution_count": null,
   "metadata": {},
   "outputs": [],
   "source": [
    "df['charge_degree'].replace({\n",
    "    0: 'misdemeanor',\n",
    "    1: 'felony',\n",
    "}, inplace=True)"
   ]
  },
  {
   "cell_type": "code",
   "execution_count": null,
   "metadata": {},
   "outputs": [],
   "source": [
    "num_to_class = {\n",
    "    0: 'did not recidivate',\n",
    "    1: 'did recidivate'\n",
    "}\n",
    "\n",
    "df['label'].replace(num_to_class, inplace=True)\n",
    "df['prediction'].replace(num_to_class, inplace=True)"
   ]
  },
  {
   "cell_type": "code",
   "execution_count": null,
   "metadata": {},
   "outputs": [],
   "source": [
    "df.head()"
   ]
  },
  {
   "cell_type": "code",
   "execution_count": null,
   "metadata": {},
   "outputs": [],
   "source": [
    "df.to_csv('broward-compas.csv', index=False)"
   ]
  },
  {
   "cell_type": "code",
   "execution_count": null,
   "metadata": {},
   "outputs": [],
   "source": []
  }
 ],
 "metadata": {
  "kernelspec": {
   "display_name": "slicelens",
   "language": "python",
   "name": "slicelens"
  },
  "language_info": {
   "codemirror_mode": {
    "name": "ipython",
    "version": 3
   },
   "file_extension": ".py",
   "mimetype": "text/x-python",
   "name": "python",
   "nbconvert_exporter": "python",
   "pygments_lexer": "ipython3",
   "version": "3.7.7"
  }
 },
 "nbformat": 4,
 "nbformat_minor": 2
}
