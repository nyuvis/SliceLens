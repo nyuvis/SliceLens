{
 "cells": [
  {
   "cell_type": "markdown",
   "metadata": {},
   "source": [
    "Uses the `student-por.csv` file from the [Student Performance data](https://archive.ics.uci.edu/ml/datasets/Student+Performance)."
   ]
  },
  {
   "cell_type": "code",
   "execution_count": null,
   "metadata": {},
   "outputs": [],
   "source": [
    "import numpy as np\n",
    "import pandas as pd\n",
    "from sklearn.ensemble import ExtraTreesClassifier\n",
    "from sklearn.model_selection import GridSearchCV"
   ]
  },
  {
   "cell_type": "code",
   "execution_count": null,
   "metadata": {},
   "outputs": [],
   "source": [
    "url = 'https://gist.githubusercontent.com/DanielKerrigan/9cb6d175a6d6b966d99f8995a2578688/raw/aa0c86615fa060299eada78b96b78c1eec084f1b'"
   ]
  },
  {
   "cell_type": "code",
   "execution_count": null,
   "metadata": {},
   "outputs": [],
   "source": [
    "df_all = pd.read_csv(f'{url}/student-por.csv', sep=';').sample(frac=1).reset_index(drop=True)\n",
    "\n",
    "df_all.drop(columns=['G1', 'G2'], inplace=True)\n",
    "df_all.rename(columns={'G3': 'label'}, inplace=True)\n",
    "df_all['label'] = pd.cut(\n",
    "    df_all['label'],\n",
    "    [0, 9, 11, 13, 15, 20],\n",
    "    labels=['F', 'D', 'C', 'B', 'A'],\n",
    "    include_lowest=True,\n",
    ")\n",
    "\n",
    "num_train = df_all.shape[0] // 2\n",
    "df_train = df_all[:num_train].copy()\n",
    "df_test = df_all[num_train:].copy()"
   ]
  },
  {
   "cell_type": "code",
   "execution_count": null,
   "metadata": {},
   "outputs": [],
   "source": [
    "print(df_train.shape)\n",
    "print(df_test.shape)"
   ]
  },
  {
   "cell_type": "code",
   "execution_count": null,
   "metadata": {},
   "outputs": [],
   "source": [
    "num_train = df_train.shape[0]\n",
    "num_test = df_test.shape[0]"
   ]
  },
  {
   "cell_type": "code",
   "execution_count": null,
   "metadata": {},
   "outputs": [],
   "source": [
    "df_train.head()"
   ]
  },
  {
   "cell_type": "code",
   "execution_count": null,
   "metadata": {},
   "outputs": [],
   "source": [
    "df_test.head()"
   ]
  },
  {
   "cell_type": "code",
   "execution_count": null,
   "metadata": {},
   "outputs": [],
   "source": [
    "df_one_hot = pd.get_dummies(df_all.drop(columns=['label']), drop_first=True)\n",
    "df_one_hot['label'] = df_all['label']\n",
    "df_train_one_hot = df_one_hot[:num_train]\n",
    "df_test_one_hot = df_one_hot[num_train:]"
   ]
  },
  {
   "cell_type": "code",
   "execution_count": null,
   "metadata": {},
   "outputs": [],
   "source": [
    "df_train_one_hot.shape[0] == num_train and df_test_one_hot.shape[0] == num_test"
   ]
  },
  {
   "cell_type": "code",
   "execution_count": null,
   "metadata": {},
   "outputs": [],
   "source": [
    "df_train_one_hot.head()"
   ]
  },
  {
   "cell_type": "code",
   "execution_count": null,
   "metadata": {},
   "outputs": [],
   "source": [
    "X_train = df_train_one_hot.drop(columns=['label']).values\n",
    "y_train = df_train_one_hot['label'].values"
   ]
  },
  {
   "cell_type": "code",
   "execution_count": null,
   "metadata": {},
   "outputs": [],
   "source": [
    "X_test = df_test_one_hot.drop(columns=['label']).values\n",
    "y_test = df_test_one_hot['label'].values"
   ]
  },
  {
   "cell_type": "code",
   "execution_count": null,
   "metadata": {
    "scrolled": true
   },
   "outputs": [],
   "source": [
    "X_train.shape[0] == num_train and X_test.shape[0] == num_test"
   ]
  },
  {
   "cell_type": "code",
   "execution_count": null,
   "metadata": {},
   "outputs": [],
   "source": [
    "parameters = {\n",
    "    'n_estimators': [16, 32, 64, 128, 256, 512],\n",
    "    'criterion': ['gini', 'entropy'],\n",
    "    'min_samples_split': [8, 16, 32, 64],\n",
    "    'max_features': [2, 4, 8, 16, 32]\n",
    "}\n",
    "clf = GridSearchCV(ExtraTreesClassifier(), parameters, scoring='accuracy', cv=5, refit=True)\n",
    "clf.fit(X_train, y_train)"
   ]
  },
  {
   "cell_type": "code",
   "execution_count": null,
   "metadata": {},
   "outputs": [],
   "source": [
    "print(clf.best_score_)\n",
    "print(clf.best_params_)"
   ]
  },
  {
   "cell_type": "code",
   "execution_count": null,
   "metadata": {},
   "outputs": [],
   "source": [
    "train_preds = clf.predict(X_train)"
   ]
  },
  {
   "cell_type": "code",
   "execution_count": null,
   "metadata": {},
   "outputs": [],
   "source": [
    "(train_preds == y_train).sum() / num_train"
   ]
  },
  {
   "cell_type": "code",
   "execution_count": null,
   "metadata": {},
   "outputs": [],
   "source": [
    "test_preds = clf.predict(X_test)"
   ]
  },
  {
   "cell_type": "code",
   "execution_count": null,
   "metadata": {},
   "outputs": [],
   "source": [
    "(test_preds == y_test).sum() / num_test"
   ]
  },
  {
   "cell_type": "code",
   "execution_count": null,
   "metadata": {},
   "outputs": [],
   "source": [
    "df_test['prediction'] = test_preds"
   ]
  },
  {
   "cell_type": "code",
   "execution_count": null,
   "metadata": {},
   "outputs": [],
   "source": [
    "df_test.to_csv('student-performance.csv', index=False, float_format='%.f')"
   ]
  },
  {
   "cell_type": "code",
   "execution_count": null,
   "metadata": {},
   "outputs": [],
   "source": []
  }
 ],
 "metadata": {
  "kernelspec": {
   "display_name": "slicelens",
   "language": "python",
   "name": "slicelens"
  },
  "language_info": {
   "codemirror_mode": {
    "name": "ipython",
    "version": 3
   },
   "file_extension": ".py",
   "mimetype": "text/x-python",
   "name": "python",
   "nbconvert_exporter": "python",
   "pygments_lexer": "ipython3",
   "version": "3.7.7"
  }
 },
 "nbformat": 4,
 "nbformat_minor": 4
}
